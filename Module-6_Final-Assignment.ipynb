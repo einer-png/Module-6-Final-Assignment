{
 "cells": [
  {
   "cell_type": "markdown",
   "id": "48f956e1-2c7a-4278-bfea-02230e32dbe5",
   "metadata": {},
   "source": [
    "# Data Science Tools and Ecosystem"
   ]
  },
  {
   "cell_type": "markdown",
   "id": "fa0856b9-13db-4e02-b2e6-a3379c3eebb0",
   "metadata": {},
   "source": [
    "## Author\n",
    "John Einer Zoleta"
   ]
  },
  {
   "cell_type": "markdown",
   "id": "ddd4e646-89b8-4ae1-9b38-e89d80c7309f",
   "metadata": {},
   "source": [
    "'In this notebook, Data Science Tools and Ecosystem are summarized.'"
   ]
  },
  {
   "cell_type": "markdown",
   "id": "283b239e-395e-419c-a6c9-896a83030f68",
   "metadata": {},
   "source": [
    "**Objectives:**\n",
    "- List popular languages for Data Science\n",
    "- List commonly used libraries of Data Scientist\n",
    "- List popular Data Science Tools\n",
    "- EValuate arithmetic expressions"
   ]
  },
  {
   "cell_type": "markdown",
   "id": "16e1de41-e1df-4687-9574-46bd16d67e16",
   "metadata": {},
   "source": [
    "Some of the popular languages that Data Scientists use are:\n",
    "1. Python\n",
    "2. SQL\n",
    "3. R"
   ]
  },
  {
   "cell_type": "markdown",
   "id": "a57feb48-f7fa-4a7c-8763-17a56821471a",
   "metadata": {},
   "source": [
    "Some of the commonly used libraries used by Data Scientists include:\n",
    "1. Numpy\n",
    "2. Matplotlib\n",
    "3. Seaborn\n"
   ]
  },
  {
   "cell_type": "markdown",
   "id": "9928b7c8-edd7-4694-85ae-db5e64df3092",
   "metadata": {},
   "source": [
    "| Data Science Tools |\n",
    "| ------------------ |\n",
    "| Jupyter |\n",
    "| Rstudio |\n",
    "| JupyterLab |"
   ]
  },
  {
   "cell_type": "markdown",
   "id": "2f7c85df-5da2-405a-a864-397cb316c7f9",
   "metadata": {},
   "source": [
    "### Below are a few examples of evaluating arithmetic expressions in Python"
   ]
  },
  {
   "cell_type": "code",
   "execution_count": 2,
   "id": "4b895e6d-d94b-4895-80f7-9089225947ea",
   "metadata": {},
   "outputs": [
    {
     "data": {
      "text/plain": [
       "17"
      ]
     },
     "execution_count": 2,
     "metadata": {},
     "output_type": "execute_result"
    }
   ],
   "source": [
    "'This is a simple arithmetic expression to multiply then add integers'\n",
    "(3*4)+5"
   ]
  },
  {
   "cell_type": "code",
   "execution_count": 3,
   "id": "bb322808-4f14-479f-bd0c-09ae2c527fcd",
   "metadata": {},
   "outputs": [
    {
     "data": {
      "text/plain": [
       "3.3333333333333335"
      ]
     },
     "execution_count": 3,
     "metadata": {},
     "output_type": "execute_result"
    }
   ],
   "source": [
    "'This will convert 200 minutes to hours by dividing 60'\n",
    "200/60"
   ]
  },
  {
   "cell_type": "code",
   "execution_count": null,
   "id": "e8f34c2d-218a-448e-b69d-a198145b1681",
   "metadata": {},
   "outputs": [],
   "source": []
  }
 ],
 "metadata": {
  "kernelspec": {
   "display_name": "Python 3 (ipykernel)",
   "language": "python",
   "name": "python3"
  },
  "language_info": {
   "codemirror_mode": {
    "name": "ipython",
    "version": 3
   },
   "file_extension": ".py",
   "mimetype": "text/x-python",
   "name": "python",
   "nbconvert_exporter": "python",
   "pygments_lexer": "ipython3",
   "version": "3.12.4"
  }
 },
 "nbformat": 4,
 "nbformat_minor": 5
}
